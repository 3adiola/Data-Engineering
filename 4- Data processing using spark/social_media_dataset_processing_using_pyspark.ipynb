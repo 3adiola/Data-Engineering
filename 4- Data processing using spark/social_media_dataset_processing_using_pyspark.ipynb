{
 "cells": [
  {
   "cell_type": "code",
   "execution_count": 1,
   "id": "f57663a4-90ea-4dec-8e54-115003b78edc",
   "metadata": {},
   "outputs": [],
   "source": [
    "# Set the PySpark environment variables\n",
    "import os\n",
    "os.environ['SPARK_HOME'] = r\"C:\\spark\\spark-3.4.2-bin-hadoop3\"\n",
    "os.environ['PYSPARK_DRIVER_PYTHON'] = 'jupyter'\n",
    "os.environ['PYSPARK_DRIVER_PYTHON_OPTS'] = 'lab'\n",
    "os.environ['PYSPARK_PYTHON'] = 'python'"
   ]
  },
  {
   "cell_type": "code",
   "execution_count": 2,
   "id": "61e1694d-d8b9-4b66-82c2-735c29c1c073",
   "metadata": {},
   "outputs": [],
   "source": [
    "# Import PySpark\n",
    "from pyspark.sql import SparkSession"
   ]
  },
  {
   "cell_type": "code",
   "execution_count": 3,
   "id": "b9b7f4d6-3633-4f43-9ba0-944a0cb30a28",
   "metadata": {},
   "outputs": [],
   "source": [
    "# Create a Spark session\n",
    "spark = SparkSession.builder.appName(\"social_media_Processing\").getOrCreate()"
   ]
  },
  {
   "cell_type": "code",
   "execution_count": 4,
   "id": "5f3747ec-351f-42c4-a139-af2634fc39eb",
   "metadata": {},
   "outputs": [],
   "source": [
    "#define dataset_path\n",
    "dataset_path = \"data/Average Time Spent By A User On Social Media.csv\"\n",
    "\n",
    "# Read the dataset into a DataFrame\n",
    "df = spark.read.csv(dataset_path, header=True, inferSchema=True)"
   ]
  },
  {
   "cell_type": "code",
   "execution_count": 5,
   "id": "47ee2cd3-7861-42e6-88c9-cb957f7a510a",
   "metadata": {},
   "outputs": [
    {
     "name": "stdout",
     "output_type": "stream",
     "text": [
      "root\n",
      " |-- age: integer (nullable = true)\n",
      " |-- gender: string (nullable = true)\n",
      " |-- time_spent: integer (nullable = true)\n",
      " |-- platform: string (nullable = true)\n",
      " |-- interests: string (nullable = true)\n",
      " |-- location: string (nullable = true)\n",
      " |-- demographics: string (nullable = true)\n",
      " |-- profession: string (nullable = true)\n",
      " |-- income: integer (nullable = true)\n",
      " |-- indebt: boolean (nullable = true)\n",
      " |-- isHomeOwner: boolean (nullable = true)\n",
      " |-- Owns_Car: boolean (nullable = true)\n",
      "\n",
      "+---+----------+----------+---------+---------+--------------+------------+-----------------+------+------+-----------+--------+\n",
      "|age|gender    |time_spent|platform |interests|location      |demographics|profession       |income|indebt|isHomeOwner|Owns_Car|\n",
      "+---+----------+----------+---------+---------+--------------+------------+-----------------+------+------+-----------+--------+\n",
      "|56 |male      |3         |Instagram|Sports   |United Kingdom|Urban       |Software Engineer|19774 |true  |false      |false   |\n",
      "|46 |female    |2         |Facebook |Travel   |United Kingdom|Urban       |Student          |10564 |true  |true       |true    |\n",
      "|32 |male      |8         |Instagram|Sports   |Australia     |Sub_Urban   |Marketer Manager |13258 |false |false      |false   |\n",
      "|60 |non-binary|5         |Instagram|Travel   |United Kingdom|Urban       |Student          |12500 |false |true       |false   |\n",
      "|25 |male      |1         |Instagram|Lifestlye|Australia     |Urban       |Software Engineer|14566 |false |true       |true    |\n",
      "+---+----------+----------+---------+---------+--------------+------------+-----------------+------+------+-----------+--------+\n",
      "only showing top 5 rows\n",
      "\n"
     ]
    }
   ],
   "source": [
    "# Show the initial structure of the DataFrame\n",
    "df.printSchema()\n",
    "\n",
    "# Display the first few rows of the DataFrame\n",
    "df.show(5, truncate=False)"
   ]
  },
  {
   "cell_type": "code",
   "execution_count": 6,
   "id": "19179bf9-891b-4c40-939e-ee56c7de49fb",
   "metadata": {},
   "outputs": [],
   "source": [
    "from pyspark.sql.functions import sum"
   ]
  },
  {
   "cell_type": "code",
   "execution_count": 7,
   "id": "08b92e2d-6226-412d-ad2c-ff4ff17412c4",
   "metadata": {},
   "outputs": [],
   "source": [
    "# Group by social media platform and calculate the total time spent\n",
    "total_time_spent_df = df.groupBy(\"platform\") \\\n",
    "    .agg(sum(\"time_spent\").alias(\"total_hours_spent\")) \\\n",
    "    .orderBy(\"total_hours_spent\", ascending=False)  # Sort in descending order\n"
   ]
  },
  {
   "cell_type": "code",
   "execution_count": 8,
   "id": "8fd17d6f-af28-4bfa-abf7-569b70793d10",
   "metadata": {},
   "outputs": [
    {
     "name": "stdout",
     "output_type": "stream",
     "text": [
      "+---------+-----------------+\n",
      "| platform|total_hours_spent|\n",
      "+---------+-----------------+\n",
      "|Instagram|             1870|\n",
      "|  YouTube|             1607|\n",
      "| Facebook|             1552|\n",
      "+---------+-----------------+\n",
      "\n"
     ]
    }
   ],
   "source": [
    "# Show the result\n",
    "total_time_spent_df.show()"
   ]
  },
  {
   "cell_type": "code",
   "execution_count": 9,
   "id": "55d85552-f068-4763-8518-25fbfff3067a",
   "metadata": {},
   "outputs": [],
   "source": [
    "from pyspark.sql.functions import count"
   ]
  },
  {
   "cell_type": "code",
   "execution_count": 10,
   "id": "0b7fac73-f79f-4984-96e2-978d8014e2c2",
   "metadata": {},
   "outputs": [],
   "source": [
    "# Group by user's interest & platform and calculate the total number of users\n",
    "number_of_users_per_interest = df.groupBy(\"platform\",\"interests\") \\\n",
    "    .agg(count(\"interests\").alias(\"no_of_users\")) \\\n",
    "    .orderBy(\"interests\", \"no_of_users\", ascending=False)  # Sort in descending order"
   ]
  },
  {
   "cell_type": "code",
   "execution_count": 11,
   "id": "1b19b994-8d55-41bd-8687-9a43fbad8ee3",
   "metadata": {},
   "outputs": [
    {
     "name": "stdout",
     "output_type": "stream",
     "text": [
      "+---------+---------+-----------+\n",
      "| platform|interests|no_of_users|\n",
      "+---------+---------+-----------+\n",
      "|  YouTube|   Travel|        124|\n",
      "|Instagram|   Travel|        108|\n",
      "| Facebook|   Travel|         96|\n",
      "|Instagram|   Sports|        125|\n",
      "| Facebook|   Sports|        119|\n",
      "|  YouTube|   Sports|         87|\n",
      "|Instagram|Lifestlye|        130|\n",
      "|  YouTube|Lifestlye|        119|\n",
      "| Facebook|Lifestlye|         92|\n",
      "+---------+---------+-----------+\n",
      "\n"
     ]
    }
   ],
   "source": [
    "number_of_users_per_interest.show()"
   ]
  },
  {
   "cell_type": "code",
   "execution_count": 12,
   "id": "2ffd3623-3b95-42d5-b413-10e9a3c5eac1",
   "metadata": {},
   "outputs": [],
   "source": [
    "# Group by demographics and calculate the number of users\n",
    "number_of_users_per_demographics = df.groupBy(\"demographics\") \\\n",
    "    .agg(count(\"demographics\").alias(\"no_of_users\")) \\\n",
    "    .orderBy(\"no_of_users\", ascending=False)  # Sort in descending order"
   ]
  },
  {
   "cell_type": "code",
   "execution_count": 13,
   "id": "c8197061-bf05-413e-86e7-19a2578dcc9e",
   "metadata": {},
   "outputs": [
    {
     "name": "stdout",
     "output_type": "stream",
     "text": [
      "+------------+-----------+\n",
      "|demographics|no_of_users|\n",
      "+------------+-----------+\n",
      "|       Rural|        340|\n",
      "|   Sub_Urban|        335|\n",
      "|       Urban|        325|\n",
      "+------------+-----------+\n",
      "\n"
     ]
    }
   ],
   "source": [
    "number_of_users_per_demographics.show()"
   ]
  },
  {
   "cell_type": "code",
   "execution_count": 14,
   "id": "3d84d7d9-9ba2-4ce6-ab79-d579f5ba5f29",
   "metadata": {},
   "outputs": [],
   "source": [
    "#ending session\n",
    "spark.stop()"
   ]
  }
 ],
 "metadata": {
  "kernelspec": {
   "display_name": "Python 3 (ipykernel)",
   "language": "python",
   "name": "python3"
  },
  "language_info": {
   "codemirror_mode": {
    "name": "ipython",
    "version": 3
   },
   "file_extension": ".py",
   "mimetype": "text/x-python",
   "name": "python",
   "nbconvert_exporter": "python",
   "pygments_lexer": "ipython3",
   "version": "3.11.4"
  }
 },
 "nbformat": 4,
 "nbformat_minor": 5
}
